{
    "cells": [
        {
            "cell_type": "markdown",
            "metadata": {
                "collapsed": true
            },
            "source": "# My Jupyter Notebook on IBM Watson Studio"
        },
        {
            "cell_type": "markdown",
            "metadata": {},
            "source": "<b>Deirdre Thompson</b>"
        },
        {
            "cell_type": "markdown",
            "metadata": {},
            "source": "Data Manager"
        },
        {
            "cell_type": "markdown",
            "metadata": {},
            "source": "<i>I chose to study data science because I have worked in database analysis and design most of my professional career.  This course and data analytics will give me a more in-depth knowledge on\npresenting the data in a more meaningful and useful way to the customer.</i>"
        },
        {
            "cell_type": "markdown",
            "metadata": {},
            "source": "### Below in cell 5, the code will add a positive integer to a negative ingeter and output."
        },
        {
            "cell_type": "code",
            "execution_count": 6,
            "metadata": {},
            "outputs": [
                {
                    "name": "stdout",
                    "output_type": "stream",
                    "text": "3\n"
                }
            ],
            "source": "\nnum1 = 10; num2= -7; sum = num1 + num2; print(sum)\n"
        },
        {
            "cell_type": "markdown",
            "metadata": {},
            "source": "<b>Example bullet list:</b> Bullet list with 2 items\n- item 1\n- item 2\n</div>\n"
        },
        {
            "cell_type": "markdown",
            "metadata": {},
            "source": "1. Numbered item\n2. Numbered item"
        },
        {
            "cell_type": "markdown",
            "metadata": {},
            "source": "# Table"
        },
        {
            "cell_type": "markdown",
            "metadata": {},
            "source": "|First Name||Last Name||City|\n|----------||---------||----|\n|John||Doe||Austin|       "
        },
        {
            "cell_type": "code",
            "execution_count": null,
            "metadata": {},
            "outputs": [],
            "source": ""
        }
    ],
    "metadata": {
        "kernelspec": {
            "display_name": "Python 3.6",
            "language": "python",
            "name": "python3"
        },
        "language_info": {
            "codemirror_mode": {
                "name": "ipython",
                "version": 3
            },
            "file_extension": ".py",
            "mimetype": "text/x-python",
            "name": "python",
            "nbconvert_exporter": "python",
            "pygments_lexer": "ipython3",
            "version": "3.6.9"
        }
    },
    "nbformat": 4,
    "nbformat_minor": 1
}