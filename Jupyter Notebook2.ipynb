{
    "cells": [
        {
            "metadata": {},
            "cell_type": "code",
            "source": "\nimport ibmos2spark\n# @hidden_cell\ncredentials = {\n    'endpoint': 'https://s3-api.us-geo.objectstorage.service.networklayer.com',\n    'service_id': 'iam-ServiceId-17d16fb1-05a2-4448-9ec8-aba324e982d1',\n    'iam_service_endpoint': 'https://iam.cloud.ibm.com/oidc/token',\n    'api_key': 'dXcbjqFNSsFnQ3xm5IIBAkwYb6dfu5_Kjg79YxLup0pj'\n}\n\nconfiguration_name = 'os_50aff8320f7042f084ccd89fa12eba56_configs'\ncos = ibmos2spark.CloudObjectStorage(sc, credentials, configuration_name, 'bluemix_cos')\n\nfrom pyspark.sql import SparkSession\nspark = SparkSession.builder.getOrCreate()\ndf_data_1 = spark.read\\\n  .format('org.apache.spark.sql.execution.datasources.csv.CSVFileFormat')\\\n  .option('header', 'true')\\\n  .load(cos.url('datasets_heart.csv', 'ibmwatsonproject1-donotdelete-pr-lxmqkq8xvspudo'))\ndf_data_1.take(5)\n",
            "execution_count": 1,
            "outputs": [
                {
                    "output_type": "stream",
                    "text": "Waiting for a Spark session to start...\nSpark Initialization Done! ApplicationId = app-20200716022321-0000\nKERNEL_ID = 7eac461b-53c5-4f4f-848d-a639296d04de\n",
                    "name": "stdout"
                },
                {
                    "output_type": "execute_result",
                    "execution_count": 1,
                    "data": {
                        "text/plain": "[Row(age='63', sex='1', cp='3', trestbps='145', chol='233', fbs='1', restecg='0', thalach='150', exang='0', oldpeak='2.3', slope='0', ca='0', thal='1', target='1'),\n Row(age='37', sex='1', cp='2', trestbps='130', chol='250', fbs='0', restecg='1', thalach='187', exang='0', oldpeak='3.5', slope='0', ca='0', thal='2', target='1'),\n Row(age='41', sex='0', cp='1', trestbps='130', chol='204', fbs='0', restecg='0', thalach='172', exang='0', oldpeak='1.4', slope='2', ca='0', thal='2', target='1'),\n Row(age='56', sex='1', cp='1', trestbps='120', chol='236', fbs='0', restecg='1', thalach='178', exang='0', oldpeak='0.8', slope='2', ca='0', thal='2', target='1'),\n Row(age='57', sex='0', cp='0', trestbps='120', chol='354', fbs='0', restecg='1', thalach='163', exang='1', oldpeak='0.6', slope='2', ca='0', thal='2', target='1')]"
                    },
                    "metadata": {}
                }
            ]
        },
        {
            "metadata": {},
            "cell_type": "code",
            "source": "",
            "execution_count": null,
            "outputs": []
        }
    ],
    "metadata": {
        "kernelspec": {
            "name": "python36",
            "display_name": "Python 3.6 with Spark",
            "language": "python3"
        },
        "language_info": {
            "mimetype": "text/x-python",
            "nbconvert_exporter": "python",
            "name": "python",
            "pygments_lexer": "ipython3",
            "version": "3.6.8",
            "file_extension": ".py",
            "codemirror_mode": {
                "version": 3,
                "name": "ipython"
            }
        }
    },
    "nbformat": 4,
    "nbformat_minor": 1
}